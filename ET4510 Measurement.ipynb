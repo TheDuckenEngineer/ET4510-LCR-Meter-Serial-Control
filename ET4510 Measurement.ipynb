{
 "cells": [
  {
   "cell_type": "code",
   "execution_count": null,
   "id": "e6858c17",
   "metadata": {},
   "outputs": [
    {
     "name": "stdout",
     "output_type": "stream",
     "text": [
      "   Frequency     Z Avg.    Z Std.  Z-THR Avg.  Z-THR Std.\n",
      "0        110  17.981250  0.006250    -82.7500         0.0\n",
      "1        332   6.535156  0.000000    -80.1875         0.0\n",
      "2       1000   2.375977  0.000977    -74.3125         0.0\n",
      "Test completed ✅\n",
      "\n",
      "\n"
     ]
    }
   ],
   "source": [
    "from Functions import*\n",
    "import matplotlib.pyplot as plt\n",
    "\n",
    "# connect to the LCR meter\n",
    "ser = DeviceConnect('COM9')\n",
    "\n",
    "# define your frequencies\n",
    "freq = Frequencies(110, 1000, 3)\n",
    "\n",
    "# set which measurements you'd like to use as its own element in a list\n",
    "# mainReadings = [\"R\", \"C\", \"L\", \"Z\"]\n",
    "# minorReadings = [\"X\", \"D\", \"Q\", \"THR\" (θ), \"ESR\"]\n",
    "mainReadings = ['Z']\n",
    "minorReadings = ['THR']\n",
    "\n",
    "try:\n",
    "    # ser - serial connection\n",
    "    # freq - user frequencies (Hz)\n",
    "    # mainReadings - inductance measurements (Ohm, H, C)\n",
    "    # minorReadings - secondary inducatce measurement (deg, Ohm, None)\n",
    "    # voltage - the voltage applied between electrodes (V)\n",
    "    # biasVoltage - the biasvoltage (V)\n",
    "    voltage = 1 \n",
    "    biasVoltage = 0\n",
    "    dataFrame = Experiment(ser, freq, mainReadings, minorReadings, voltage, biasVoltage)\n",
    "    DeviceDisconnect(ser)\n",
    "except: \n",
    "    print('Test Aborted')\n",
    "    DeviceDisconnect(ser)     \n"
   ]
  },
  {
   "cell_type": "code",
   "execution_count": 2,
   "id": "1efe3466",
   "metadata": {},
   "outputs": [
    {
     "ename": "NameError",
     "evalue": "name 'dataFrame' is not defined",
     "output_type": "error",
     "traceback": [
      "\u001b[31m---------------------------------------------------------------------------\u001b[39m",
      "\u001b[31mNameError\u001b[39m                                 Traceback (most recent call last)",
      "\u001b[36mCell\u001b[39m\u001b[36m \u001b[39m\u001b[32mIn[2]\u001b[39m\u001b[32m, line 29\u001b[39m\n\u001b[32m     26\u001b[39m         plt.tight_layout()  \u001b[38;5;66;03m# Adjust spacing\u001b[39;00m\n\u001b[32m     28\u001b[39m         plt.show()  \u001b[38;5;66;03m# Display plot\u001b[39;00m\n\u001b[32m---> \u001b[39m\u001b[32m29\u001b[39m ComplexResistivity(thickness, diameter, \u001b[43mdataFrame\u001b[49m)\n",
      "\u001b[31mNameError\u001b[39m: name 'dataFrame' is not defined"
     ]
    }
   ],
   "source": [
    "# define material parameters in mm \n",
    "thickness = 1\n",
    "diameter = 12\n",
    "\n",
    "def ComplexResistivity(thickness, diameter, dataFrame):\n",
    "    area = np.pi*diameter**2/4 \n",
    "    angularFrequency = 2*np.pi*dataFrame['Frequency']\n",
    "\n",
    "    if 'R Avg.' in dataFrame.columns and 'C Avg.' in dataFrame.columns:\n",
    "        # calculate the denominator\n",
    "        denomiator = 1 + (angularFrequency**2)*(dataFrame[\"R Avg.\"]**2)*(dataFrame[\"C Avg.\"]**2)\n",
    "\n",
    "        # calulate the real part of the impedance\n",
    "        z_real = dataFrame[\"R Avg.\"] / denomiator \n",
    "        z_imag = angularFrequency*(dataFrame[\"R Avg.\"]**2)*dataFrame[\"C Avg.\"]/denomiator\n",
    "            \n",
    "        dataFrame['Real Resistivity'] = z_real * area / thickness  # Real impedance unit Ω·mm\n",
    "        dataFrame['Imag Resistivity'] = z_imag * area / thickness  # Imaginary impedance unit Ω·mm\n",
    "        \n",
    "        plt.figure(figsize = (6, 5))  # Set figure size\n",
    "        plt.plot(dataFrame['Real Resistivity'], dataFrame['Imag Resistivity'], 'o-')  # Plot as line + points\n",
    "        plt.xlabel(\"Z' (Ω·mm)\")   # X-axis label\n",
    "        plt.ylabel(\"Z'' (Ω·mm)\")  # Y-axis label\n",
    "        plt.title(\"Impedance Plot (Z' vs Z'')\")  # Title\n",
    "        plt.grid(True)  # Enable grid\n",
    "        plt.tight_layout()  # Adjust spacing\n",
    "\n",
    "        plt.show()  # Display plot\n",
    "ComplexResistivity(thickness, diameter, dataFrame)"
   ]
  },
  {
   "cell_type": "code",
   "execution_count": null,
   "id": "3bc9a0bb",
   "metadata": {},
   "outputs": [],
   "source": [
    "# define material parameters\n",
    "thickness = float(input(\"Enter sample thickness (mm): \"))   # Thickness input\n",
    "diameter = float(input(\"Enter sample diameter (mm): \"))     # Diameter input\n",
    "radius = diameter/2                                    # Radius calculation\n",
    "area = np.pi*radius**2                              # Calculate sample area (circular sample)\n",
    "\n",
    "\n",
    "        angularFrequency = 2 * np.pi * freq  # Angular frequency\n",
    "        results_dict[freq][\"angularFrequency (rad/s)\"] = angularFrequency\n",
    "        dataFrame[\"R Avg.\"] = results_dict[freq].get(\"dataFrame[\"R Avg.\"]_X\")  # Retrieve dataFrame[\"R Avg.\"]\n",
    "        dataFrame[\"C Avg.\"] = results_dict[freq].get(\"dataFrame[\"C Avg.\"]_X\")  # Retrieve dataFrame[\"C Avg.\"]\n",
    "        if dataFrame[\"R Avg.\"] is not None and dataFrame[\"C Avg.\"] is not None:\n",
    "            try:\n",
    "                \n",
    "            except:\n",
    "                pass  # Ignore error if calculation fails\n",
    "\n",
    "    # Save to CSV\n",
    "    with open(filename, mode='w', newline='') as file:\n",
    "        writer = csv.DictWriter(file, fieldnames=fieldnames + [\n",
    "            \"angularFrequency (rad/s)\", \"Z_real (Ω)\", \"Z_imag (Ω)\",\n",
    "            \"Z_real (Ω·mm)\", \"Z_imag (Ω·mm)\"\n",
    "        ], extrasaction='ignore')\n",
    "        writer.writeheader()  # Write header\n",
    "        for freq in frequencies:\n",
    "            writer.writerow(results_dict[freq])  # Write row by row\n",
    "\n",
    "    print(f\"\\n'{filename}' has been saved!\")\n",
    "    print(\"Measurement interrupted or completed, data saved.\")\n",
    "\n",
    "    # Plot and save graph (Z'_real vs Z''_imag)\n",
    "    z_real_vals = [results_dict[f].get(\"Z_real (Ω·mm)\") for f in frequencies if results_dict[f].get(\"Z_real (Ω·mm)\") is not None]\n",
    "    z_imag_vals = [results_dict[f].get(\"Z_imag (Ω·mm)\") for f in frequencies if results_dict[f].get(\"Z_imag (Ω·mm)\") is not None]\n",
    "\n",
    "    if z_real_vals and z_imag_vals:\n",
    "        plt.figure(figsize=(6, 5))  # Set figure size\n",
    "        plt.plot(z_real_vals, z_imag_vals, 'o-')  # Plot as line + points\n",
    "        plt.xlabel(\"Z' (Ω·mm)\")   # X-axis label\n",
    "        plt.ylabel(\"Z'' (Ω·mm)\")  # Y-axis label\n",
    "        plt.title(\"Impedance Plot (Z' vs Z'')\")  # Title\n",
    "        plt.grid(True)  # Enable grid\n",
    "        plt.tight_layout()  # Adjust spacing\n",
    "        plt.savefig(image_filename)  # Save as image\n",
    "        plt.show()  # Display plot"
   ]
  }
 ],
 "metadata": {
  "kernelspec": {
   "display_name": "Python 3",
   "language": "python",
   "name": "python3"
  },
  "language_info": {
   "codemirror_mode": {
    "name": "ipython",
    "version": 3
   },
   "file_extension": ".py",
   "mimetype": "text/x-python",
   "name": "python",
   "nbconvert_exporter": "python",
   "pygments_lexer": "ipython3",
   "version": "3.13.3"
  }
 },
 "nbformat": 4,
 "nbformat_minor": 5
}
