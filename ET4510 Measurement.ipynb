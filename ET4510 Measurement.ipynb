{
 "cells": [
  {
   "cell_type": "code",
   "execution_count": null,
   "id": "e6858c17",
   "metadata": {},
   "outputs": [
    {
     "name": "stdout",
     "output_type": "stream",
     "text": [
      "   Frequency     Z Avg.    Z Std.  Z-THR Avg.  Z-THR Std.\n",
      "0        110  17.981250  0.006250    -82.7500         0.0\n",
      "1        332   6.535156  0.000000    -80.1875         0.0\n",
      "2       1000   2.375977  0.000977    -74.3125         0.0\n",
      "Test completed ✅\n",
      "\n",
      "\n"
     ]
    }
   ],
   "source": [
    "from Functions import*\n",
    "import matplotlib.pyplot as plt\n",
    "\n",
    "# connect to the LCR meter\n",
    "ser = DeviceConnect('COM9')\n",
    "\n",
    "# define your frequencies\n",
    "freq = Frequencies(110, 1000, 3)\n",
    "\n",
    "# set which measurements you'd like to use as its own element in a list\n",
    "# mainReadings = [\"R\", \"C\", \"L\", \"Z\"]\n",
    "# minorReadings = [\"X\", \"D\", \"Q\", \"THR\" (θ), \"ESR\"]\n",
    "mainReadings = ['Z']\n",
    "minorReadings = ['THR']\n",
    "\n",
    "try:\n",
    "    # ser - serial connection\n",
    "    # freq - user frequencies (Hz)\n",
    "    # mainReadings - inductance measurements (Ohm, H, C)\n",
    "    # minorReadings - secondary inducatce measurement (deg, Ohm, None)\n",
    "    # voltage - the voltage applied between electrodes (V)\n",
    "    # biasVoltage - the biasvoltage (V)\n",
    "    voltage = 1 \n",
    "    biasVoltage = 0\n",
    "    dataFrame = Experiment(ser, freq, mainReadings, minorReadings, voltage, biasVoltage)\n",
    "    DeviceDisconnect(ser)\n",
    "except: \n",
    "    print('Test Aborted')\n",
    "    DeviceDisconnect(ser)     \n"
   ]
  }
 ],
 "metadata": {
  "kernelspec": {
   "display_name": "Python 3",
   "language": "python",
   "name": "python3"
  },
  "language_info": {
   "codemirror_mode": {
    "name": "ipython",
    "version": 3
   },
   "file_extension": ".py",
   "mimetype": "text/x-python",
   "name": "python",
   "nbconvert_exporter": "python",
   "pygments_lexer": "ipython3",
   "version": "3.13.3"
  }
 },
 "nbformat": 4,
 "nbformat_minor": 5
}
